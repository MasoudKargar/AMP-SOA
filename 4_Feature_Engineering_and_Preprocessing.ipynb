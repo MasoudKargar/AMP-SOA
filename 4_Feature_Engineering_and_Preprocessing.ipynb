{
 "cells": [
  {
   "cell_type": "markdown",
   "metadata": {},
   "source": [
    "# AMP-SOA portfolio optimization using adaptive meta-policy based on second-order agents with deep reinforcment learning\n",
    "---"
   ]
  },
  {
   "cell_type": "markdown",
   "metadata": {},
   "source": [
    "## 4.0 Feature Engineering and Data Preprocessing\n",
    "---\n",
    "We perform feature engineering and data preprocessing by:\n",
    "* Adding Technical Indicators to the data. The technical inicators are used as inputs in the training of our Reinforcement Learning Model\n",
    "* Adding Coveriance Matrices which is also used as input for training the Models\n",
    "* Splitting the data into the training set and the testing (trading) set"
   ]
  },
  {
   "cell_type": "markdown",
   "metadata": {},
   "source": [
    "### 4.1 Import Relevant Libraries"
   ]
  },
  {
   "cell_type": "code",
   "execution_count": 1,
   "metadata": {},
   "outputs": [],
   "source": [
    "import pandas as pdp\n",
    "import pandas as pd\n",
    "import numpy as np\n",
    "import ta\n",
    "from ta import add_all_ta_features\n",
    "from ta.utils import dropna\n",
    "\n",
    "from finrl.preprocessing.data import data_split\n",
    "from finrl.preprocessing.preprocessors import FeatureEngineer\n",
    "from pickleshare import PickleShareDB\n"
   ]
  },
  {
   "cell_type": "markdown",
   "metadata": {},
   "source": [
    "### 4.2 Load the Data from the csv Files"
   ]
  },
  {
   "cell_type": "code",
   "execution_count": 2,
   "metadata": {},
   "outputs": [],
   "source": [
    "# Load the whole data set\n",
    "data = pdp.read_csv('./datasets/data.csv')\n",
    "\n",
    "# Load the close prices dataset\n",
    "prices_data = pdp.read_csv('./datasets/close_prices.csv')\n",
    "\n"
   ]
  },
  {
   "cell_type": "code",
   "execution_count": 3,
   "metadata": {},
   "outputs": [
    {
     "name": "stdout",
     "output_type": "stream",
     "text": [
      "Stored 'filtered_stocks' (list)\n"
     ]
    }
   ],
   "source": [
    "filtered_stocks = pd.read_csv('filtered_stocks.csv')\n",
    "filtered_stocks = filtered_stocks.drop(columns=['Unnamed: 0'])\n",
    "filtered_stocks = filtered_stocks['stock_name'].tolist()\n",
    "%store filtered_stocks"
   ]
  },
  {
   "cell_type": "code",
   "execution_count": 4,
   "metadata": {},
   "outputs": [
    {
     "name": "stdout",
     "output_type": "stream",
     "text": [
      "['PG', 'JNJ', 'VZ', 'KO', 'PFE', 'MCD', 'MMM', 'IBM', 'WMT', 'RTX', 'HD', 'MRK', 'CSCO', 'CAT', 'V', 'AAPL', 'AXP', 'MSFT', 'XOM', 'TRV']\n"
     ]
    }
   ],
   "source": [
    "list_of_stocks = filtered_stocks\n",
    "print(list_of_stocks)"
   ]
  },
  {
   "cell_type": "code",
   "execution_count": 5,
   "metadata": {},
   "outputs": [
    {
     "data": {
      "text/html": [
       "<div>\n",
       "<style scoped>\n",
       "    .dataframe tbody tr th:only-of-type {\n",
       "        vertical-align: middle;\n",
       "    }\n",
       "\n",
       "    .dataframe tbody tr th {\n",
       "        vertical-align: top;\n",
       "    }\n",
       "\n",
       "    .dataframe thead th {\n",
       "        text-align: right;\n",
       "    }\n",
       "</style>\n",
       "<table border=\"1\" class=\"dataframe\">\n",
       "  <thead>\n",
       "    <tr style=\"text-align: right;\">\n",
       "      <th></th>\n",
       "      <th>date</th>\n",
       "      <th>tic</th>\n",
       "      <th>close</th>\n",
       "      <th>high</th>\n",
       "      <th>low</th>\n",
       "      <th>open</th>\n",
       "      <th>volume</th>\n",
       "    </tr>\n",
       "  </thead>\n",
       "  <tbody>\n",
       "    <tr>\n",
       "      <th>0</th>\n",
       "      <td>2008-03-19</td>\n",
       "      <td>AAPL</td>\n",
       "      <td>3.915352</td>\n",
       "      <td>4.796071</td>\n",
       "      <td>4.631071</td>\n",
       "      <td>4.754286</td>\n",
       "      <td>1.010537e+09</td>\n",
       "    </tr>\n",
       "    <tr>\n",
       "      <th>1</th>\n",
       "      <td>2008-03-19</td>\n",
       "      <td>AXP</td>\n",
       "      <td>32.275002</td>\n",
       "      <td>44.480000</td>\n",
       "      <td>41.919998</td>\n",
       "      <td>44.200001</td>\n",
       "      <td>1.409830e+07</td>\n",
       "    </tr>\n",
       "    <tr>\n",
       "      <th>2</th>\n",
       "      <td>2008-03-19</td>\n",
       "      <td>BA</td>\n",
       "      <td>54.094528</td>\n",
       "      <td>77.000000</td>\n",
       "      <td>73.449997</td>\n",
       "      <td>76.980003</td>\n",
       "      <td>9.195600e+06</td>\n",
       "    </tr>\n",
       "    <tr>\n",
       "      <th>3</th>\n",
       "      <td>2008-03-19</td>\n",
       "      <td>CAT</td>\n",
       "      <td>47.481430</td>\n",
       "      <td>77.000000</td>\n",
       "      <td>73.730003</td>\n",
       "      <td>76.620003</td>\n",
       "      <td>7.377400e+06</td>\n",
       "    </tr>\n",
       "    <tr>\n",
       "      <th>4</th>\n",
       "      <td>2008-03-19</td>\n",
       "      <td>CSCO</td>\n",
       "      <td>16.453362</td>\n",
       "      <td>25.580000</td>\n",
       "      <td>24.459999</td>\n",
       "      <td>25.469999</td>\n",
       "      <td>6.398860e+07</td>\n",
       "    </tr>\n",
       "  </tbody>\n",
       "</table>\n",
       "</div>"
      ],
      "text/plain": [
       "         date   tic      close       high        low       open        volume\n",
       "0  2008-03-19  AAPL   3.915352   4.796071   4.631071   4.754286  1.010537e+09\n",
       "1  2008-03-19   AXP  32.275002  44.480000  41.919998  44.200001  1.409830e+07\n",
       "2  2008-03-19    BA  54.094528  77.000000  73.449997  76.980003  9.195600e+06\n",
       "3  2008-03-19   CAT  47.481430  77.000000  73.730003  76.620003  7.377400e+06\n",
       "4  2008-03-19  CSCO  16.453362  25.580000  24.459999  25.469999  6.398860e+07"
      ]
     },
     "execution_count": 5,
     "metadata": {},
     "output_type": "execute_result"
    }
   ],
   "source": [
    "data.head()"
   ]
  },
  {
   "cell_type": "code",
   "execution_count": 6,
   "metadata": {},
   "outputs": [],
   "source": [
    "data = data[data['tic'].isin(list_of_stocks)]"
   ]
  },
  {
   "cell_type": "code",
   "execution_count": 7,
   "metadata": {},
   "outputs": [
    {
     "data": {
      "text/plain": [
       "array(['AAPL', 'AXP', 'CAT', 'CSCO', 'HD', 'IBM', 'JNJ', 'KO', 'MCD',\n",
       "       'MMM', 'MRK', 'MSFT', 'PFE', 'PG', 'RTX', 'TRV', 'V', 'VZ', 'WMT',\n",
       "       'XOM'], dtype=object)"
      ]
     },
     "execution_count": 7,
     "metadata": {},
     "output_type": "execute_result"
    }
   ],
   "source": [
    "data.tic.unique()"
   ]
  },
  {
   "cell_type": "markdown",
   "metadata": {},
   "source": [
    "### 4.3 Add Technical Indicators\n",
    "---\n",
    "We define a function to add technical indicators to the dataset by making use of the ta library\n",
    "\n",
    "The folloing indicators are considered:\n",
    "* Volatility Average True Range (ATR)\n",
    "* Volatility Bollinger Band Width (BBW)\n",
    "* Volume On-balance Volume (OBV\n",
    "* Volume Chaikin Money Flow (CMF)\n",
    "* Trend Moving Average Convergence Divergence (MACD)\n",
    "* Trend Average Directional Index (ADX)\n",
    "* Trend Fast Simple Moving Average (SMA)\n",
    "* Trend Fast Exponential Moving Average (EMA)\n",
    "* Trend Commodity Channel Index (CCI)\n",
    "* Momentum Relative Strength Index (RSI)"
   ]
  },
  {
   "cell_type": "code",
   "execution_count": 8,
   "metadata": {},
   "outputs": [],
   "source": [
    "# Define a Function for adding technical indicators\n",
    "\n",
    "def add_features(data, feature_list, short_names):\n",
    "    \"\"\"\n",
    "    Function to add technical indicators for features\n",
    "    -Takes in a dataset with Open, High, Low, Close and Volume\n",
    "    -Also takes in a list of the technical indicators to be added \n",
    "     as well as a list of the shortened indicator names\n",
    "    \"\"\"\n",
    "    \n",
    "    # list of column names to filter the features\n",
    "    data_col_names = list(data.columns)\n",
    "    filter_names = data_col_names + feature_list\n",
    "    col_rename = data_col_names +  short_names\n",
    "    \n",
    "    # Add technical indicators using the ta Library\n",
    "    data = add_all_ta_features(data, open=\"open\", high=\"high\", \n",
    "    low=\"low\", close=\"close\", volume=\"volume\") \n",
    "    \n",
    "    # Filter the Indicators with the required features\n",
    "    data = data[filter_names]\n",
    "    data.columns = col_rename # rename the columns to use shortened indicator names\n",
    "    data = data.dropna()\n",
    "    \n",
    "    return data"
   ]
  },
  {
   "cell_type": "code",
   "execution_count": 9,
   "metadata": {},
   "outputs": [],
   "source": [
    "# List of Features to add\n",
    "feature_list= ['volatility_atr','volatility_bbw','volume_obv','volume_cmf',\n",
    "               'trend_macd', 'trend_adx', 'trend_sma_fast', \n",
    "               'trend_ema_fast', 'trend_cci', 'momentum_rsi']\n",
    "\n",
    "# Short names of the features\n",
    "short_names = ['atr', 'bbw','obv','cmf','macd', 'adx', 'sma', 'ema', 'cci', 'rsi']\n",
    "\n",
    "#feature_list= ['volatility_atr','volatility_bbw','volume_obv','volume_cmf','trend_macd']\n",
    "\n",
    "# Short names of the features\n",
    "#short_names = ['atr', 'bbw','obv','cmf','macd']"
   ]
  },
  {
   "cell_type": "code",
   "execution_count": 10,
   "metadata": {},
   "outputs": [
    {
     "name": "stderr",
     "output_type": "stream",
     "text": [
      "d:\\Users\\nice\\anaconda3\\envs\\rein\\lib\\site-packages\\ta\\volume.py:335: RuntimeWarning: overflow encountered in scalar multiply\n",
      "  self._nvi.iloc[i] = self._nvi.iloc[i - 1] * (1.0 + price_change.iloc[i])\n"
     ]
    }
   ],
   "source": [
    "# Add Indicators to our dataset\n",
    "data_with_features = data.copy()\n",
    "\n",
    "data_with_features = add_features(data_with_features, feature_list, short_names)"
   ]
  },
  {
   "cell_type": "code",
   "execution_count": 11,
   "metadata": {
    "scrolled": true
   },
   "outputs": [
    {
     "data": {
      "text/html": [
       "<div>\n",
       "<style scoped>\n",
       "    .dataframe tbody tr th:only-of-type {\n",
       "        vertical-align: middle;\n",
       "    }\n",
       "\n",
       "    .dataframe tbody tr th {\n",
       "        vertical-align: top;\n",
       "    }\n",
       "\n",
       "    .dataframe thead th {\n",
       "        text-align: right;\n",
       "    }\n",
       "</style>\n",
       "<table border=\"1\" class=\"dataframe\">\n",
       "  <thead>\n",
       "    <tr style=\"text-align: right;\">\n",
       "      <th></th>\n",
       "      <th>date</th>\n",
       "      <th>tic</th>\n",
       "      <th>close</th>\n",
       "      <th>high</th>\n",
       "      <th>low</th>\n",
       "      <th>open</th>\n",
       "      <th>volume</th>\n",
       "      <th>atr</th>\n",
       "      <th>bbw</th>\n",
       "      <th>obv</th>\n",
       "      <th>cmf</th>\n",
       "      <th>macd</th>\n",
       "      <th>adx</th>\n",
       "      <th>sma</th>\n",
       "      <th>ema</th>\n",
       "      <th>cci</th>\n",
       "      <th>rsi</th>\n",
       "    </tr>\n",
       "  </thead>\n",
       "  <tbody>\n",
       "    <tr>\n",
       "      <th>40</th>\n",
       "      <td>2008-03-20</td>\n",
       "      <td>IBM</td>\n",
       "      <td>65.684784</td>\n",
       "      <td>113.269600</td>\n",
       "      <td>111.520073</td>\n",
       "      <td>111.940727</td>\n",
       "      <td>11943123.0</td>\n",
       "      <td>34.447397</td>\n",
       "      <td>218.648382</td>\n",
       "      <td>-789386254.0</td>\n",
       "      <td>-11.243337</td>\n",
       "      <td>5.195966</td>\n",
       "      <td>0.000000</td>\n",
       "      <td>27.822830</td>\n",
       "      <td>31.272448</td>\n",
       "      <td>206.878734</td>\n",
       "      <td>58.752809</td>\n",
       "    </tr>\n",
       "    <tr>\n",
       "      <th>42</th>\n",
       "      <td>2008-03-20</td>\n",
       "      <td>JNJ</td>\n",
       "      <td>40.486256</td>\n",
       "      <td>65.500000</td>\n",
       "      <td>64.889999</td>\n",
       "      <td>64.970001</td>\n",
       "      <td>16276300.0</td>\n",
       "      <td>31.082136</td>\n",
       "      <td>218.702760</td>\n",
       "      <td>-805662554.0</td>\n",
       "      <td>-11.486798</td>\n",
       "      <td>5.546084</td>\n",
       "      <td>0.000000</td>\n",
       "      <td>28.762572</td>\n",
       "      <td>32.689956</td>\n",
       "      <td>62.821851</td>\n",
       "      <td>52.906277</td>\n",
       "    </tr>\n",
       "    <tr>\n",
       "      <th>44</th>\n",
       "      <td>2008-03-20</td>\n",
       "      <td>KO</td>\n",
       "      <td>18.418718</td>\n",
       "      <td>30.570000</td>\n",
       "      <td>30.020000</td>\n",
       "      <td>30.080000</td>\n",
       "      <td>31028600.0</td>\n",
       "      <td>29.020548</td>\n",
       "      <td>218.427310</td>\n",
       "      <td>-836691154.0</td>\n",
       "      <td>-11.719739</td>\n",
       "      <td>3.996817</td>\n",
       "      <td>7.302938</td>\n",
       "      <td>27.695762</td>\n",
       "      <td>30.494381</td>\n",
       "      <td>-47.899937</td>\n",
       "      <td>48.367042</td>\n",
       "    </tr>\n",
       "    <tr>\n",
       "      <th>45</th>\n",
       "      <td>2008-03-20</td>\n",
       "      <td>MCD</td>\n",
       "      <td>34.413494</td>\n",
       "      <td>54.759998</td>\n",
       "      <td>53.700001</td>\n",
       "      <td>53.950001</td>\n",
       "      <td>13075600.0</td>\n",
       "      <td>29.752621</td>\n",
       "      <td>218.374354</td>\n",
       "      <td>-823615554.0</td>\n",
       "      <td>-11.837907</td>\n",
       "      <td>4.013392</td>\n",
       "      <td>7.171068</td>\n",
       "      <td>29.513118</td>\n",
       "      <td>31.097322</td>\n",
       "      <td>29.079237</td>\n",
       "      <td>51.607892</td>\n",
       "    </tr>\n",
       "    <tr>\n",
       "      <th>46</th>\n",
       "      <td>2008-03-20</td>\n",
       "      <td>MMM</td>\n",
       "      <td>39.348988</td>\n",
       "      <td>66.337791</td>\n",
       "      <td>64.765884</td>\n",
       "      <td>65.635452</td>\n",
       "      <td>8297011.0</td>\n",
       "      <td>29.969789</td>\n",
       "      <td>218.263812</td>\n",
       "      <td>-815318543.0</td>\n",
       "      <td>-11.900783</td>\n",
       "      <td>4.374356</td>\n",
       "      <td>7.208910</td>\n",
       "      <td>31.609394</td>\n",
       "      <td>32.366809</td>\n",
       "      <td>62.763966</td>\n",
       "      <td>52.596624</td>\n",
       "    </tr>\n",
       "  </tbody>\n",
       "</table>\n",
       "</div>"
      ],
      "text/plain": [
       "          date  tic      close        high         low        open  \\\n",
       "40  2008-03-20  IBM  65.684784  113.269600  111.520073  111.940727   \n",
       "42  2008-03-20  JNJ  40.486256   65.500000   64.889999   64.970001   \n",
       "44  2008-03-20   KO  18.418718   30.570000   30.020000   30.080000   \n",
       "45  2008-03-20  MCD  34.413494   54.759998   53.700001   53.950001   \n",
       "46  2008-03-20  MMM  39.348988   66.337791   64.765884   65.635452   \n",
       "\n",
       "        volume        atr         bbw          obv        cmf      macd  \\\n",
       "40  11943123.0  34.447397  218.648382 -789386254.0 -11.243337  5.195966   \n",
       "42  16276300.0  31.082136  218.702760 -805662554.0 -11.486798  5.546084   \n",
       "44  31028600.0  29.020548  218.427310 -836691154.0 -11.719739  3.996817   \n",
       "45  13075600.0  29.752621  218.374354 -823615554.0 -11.837907  4.013392   \n",
       "46   8297011.0  29.969789  218.263812 -815318543.0 -11.900783  4.374356   \n",
       "\n",
       "         adx        sma        ema         cci        rsi  \n",
       "40  0.000000  27.822830  31.272448  206.878734  58.752809  \n",
       "42  0.000000  28.762572  32.689956   62.821851  52.906277  \n",
       "44  7.302938  27.695762  30.494381  -47.899937  48.367042  \n",
       "45  7.171068  29.513118  31.097322   29.079237  51.607892  \n",
       "46  7.208910  31.609394  32.366809   62.763966  52.596624  "
      ]
     },
     "execution_count": 11,
     "metadata": {},
     "output_type": "execute_result"
    }
   ],
   "source": [
    "data_with_features.head()"
   ]
  },
  {
   "cell_type": "code",
   "execution_count": 12,
   "metadata": {},
   "outputs": [],
   "source": [
    "feature_list = list(data_with_features.columns)[7:]"
   ]
  },
  {
   "cell_type": "code",
   "execution_count": 13,
   "metadata": {},
   "outputs": [
    {
     "name": "stdout",
     "output_type": "stream",
     "text": [
      "['atr', 'bbw', 'obv', 'cmf', 'macd', 'adx', 'sma', 'ema', 'cci', 'rsi']\n"
     ]
    }
   ],
   "source": [
    "print(feature_list)"
   ]
  },
  {
   "cell_type": "markdown",
   "metadata": {},
   "source": [
    "### 4.4 Add Covariance Matrix\n",
    "---\n",
    "We define a function that will add Covarance Matrices to our dataset"
   ]
  },
  {
   "cell_type": "code",
   "execution_count": 14,
   "metadata": {},
   "outputs": [],
   "source": [
    "def add_cov_matrix(df):\n",
    "    \"\"\"\n",
    "    Function to add Coveriance Matrices as part of the defined states\n",
    "    \"\"\"\n",
    "    # Sort the data and index by date and tic\n",
    "    df=df.sort_values(['date','tic'],ignore_index=True) \n",
    "    df.index = df.date.factorize()[0]\n",
    "    \n",
    "    cov_list = [] # create empty list for storing coveriance matrices at each time step\n",
    "    \n",
    "    # look back for constructing the coveriance matrix is one year\n",
    "    lookback=252\n",
    "    for i in range(lookback,len(df.index.unique())):\n",
    "        data_lookback = df.loc[i-lookback:i,:]\n",
    "        price_lookback=data_lookback.pivot_table(index = 'date',columns = 'tic', values = 'close')\n",
    "        return_lookback = price_lookback.pct_change().dropna()\n",
    "        covs = return_lookback.cov().values \n",
    "        covs = covs#/covs.max()\n",
    "        cov_list.append(covs)\n",
    "        \n",
    "    df_cov = pd.DataFrame({'date':df.date.unique()[lookback:],'cov_list':cov_list})\n",
    "    df = df.merge(df_cov, on='date')\n",
    "    df = df.sort_values(['date','tic']).reset_index(drop=True)\n",
    "    \n",
    "    return df"
   ]
  },
  {
   "cell_type": "code",
   "execution_count": 15,
   "metadata": {},
   "outputs": [],
   "source": [
    "# Add Covariance Matrices to our dataset\n",
    "data_with_features_covs = data_with_features.copy()\n",
    "data_with_features_covs = add_cov_matrix(data_with_features_covs)"
   ]
  },
  {
   "cell_type": "code",
   "execution_count": 16,
   "metadata": {
    "scrolled": true
   },
   "outputs": [
    {
     "data": {
      "text/html": [
       "<div>\n",
       "<style scoped>\n",
       "    .dataframe tbody tr th:only-of-type {\n",
       "        vertical-align: middle;\n",
       "    }\n",
       "\n",
       "    .dataframe tbody tr th {\n",
       "        vertical-align: top;\n",
       "    }\n",
       "\n",
       "    .dataframe thead th {\n",
       "        text-align: right;\n",
       "    }\n",
       "</style>\n",
       "<table border=\"1\" class=\"dataframe\">\n",
       "  <thead>\n",
       "    <tr style=\"text-align: right;\">\n",
       "      <th></th>\n",
       "      <th>date</th>\n",
       "      <th>tic</th>\n",
       "      <th>close</th>\n",
       "      <th>high</th>\n",
       "      <th>low</th>\n",
       "      <th>open</th>\n",
       "      <th>volume</th>\n",
       "      <th>atr</th>\n",
       "      <th>bbw</th>\n",
       "      <th>obv</th>\n",
       "      <th>cmf</th>\n",
       "      <th>macd</th>\n",
       "      <th>adx</th>\n",
       "      <th>sma</th>\n",
       "      <th>ema</th>\n",
       "      <th>cci</th>\n",
       "      <th>rsi</th>\n",
       "      <th>cov_list</th>\n",
       "    </tr>\n",
       "  </thead>\n",
       "  <tbody>\n",
       "    <tr>\n",
       "      <th>0</th>\n",
       "      <td>2009-03-20</td>\n",
       "      <td>AAPL</td>\n",
       "      <td>3.067483</td>\n",
       "      <td>3.6825</td>\n",
       "      <td>3.591786</td>\n",
       "      <td>3.646071</td>\n",
       "      <td>695587200.0</td>\n",
       "      <td>21.624245</td>\n",
       "      <td>240.771026</td>\n",
       "      <td>-2.878423e+11</td>\n",
       "      <td>-15.604885</td>\n",
       "      <td>-1.092894</td>\n",
       "      <td>4.784446</td>\n",
       "      <td>17.715581</td>\n",
       "      <td>18.197433</td>\n",
       "      <td>-112.331634</td>\n",
       "      <td>45.730861</td>\n",
       "      <td>[[0.0013155151011021062, 0.0011575384750591776...</td>\n",
       "    </tr>\n",
       "    <tr>\n",
       "      <th>1</th>\n",
       "      <td>2009-03-20</td>\n",
       "      <td>AXP</td>\n",
       "      <td>9.629786</td>\n",
       "      <td>13.1900</td>\n",
       "      <td>12.120000</td>\n",
       "      <td>13.190000</td>\n",
       "      <td>31088200.0</td>\n",
       "      <td>20.474072</td>\n",
       "      <td>241.683988</td>\n",
       "      <td>-2.878112e+11</td>\n",
       "      <td>-15.658606</td>\n",
       "      <td>-1.695398</td>\n",
       "      <td>4.652402</td>\n",
       "      <td>16.456213</td>\n",
       "      <td>16.879334</td>\n",
       "      <td>-74.319369</td>\n",
       "      <td>47.538704</td>\n",
       "      <td>[[0.0013155151011021062, 0.0011575384750591776...</td>\n",
       "    </tr>\n",
       "    <tr>\n",
       "      <th>2</th>\n",
       "      <td>2009-03-20</td>\n",
       "      <td>CAT</td>\n",
       "      <td>17.987209</td>\n",
       "      <td>28.9000</td>\n",
       "      <td>26.730000</td>\n",
       "      <td>28.629999</td>\n",
       "      <td>16531300.0</td>\n",
       "      <td>20.353686</td>\n",
       "      <td>242.338441</td>\n",
       "      <td>-2.877947e+11</td>\n",
       "      <td>-15.545789</td>\n",
       "      <td>-1.481436</td>\n",
       "      <td>4.441961</td>\n",
       "      <td>16.727739</td>\n",
       "      <td>17.049776</td>\n",
       "      <td>-15.127649</td>\n",
       "      <td>49.830865</td>\n",
       "      <td>[[0.0013155151011021062, 0.0011575384750591776...</td>\n",
       "    </tr>\n",
       "    <tr>\n",
       "      <th>3</th>\n",
       "      <td>2009-03-20</td>\n",
       "      <td>CSCO</td>\n",
       "      <td>10.697708</td>\n",
       "      <td>16.5700</td>\n",
       "      <td>15.750000</td>\n",
       "      <td>16.370001</td>\n",
       "      <td>66078200.0</td>\n",
       "      <td>18.542039</td>\n",
       "      <td>242.632129</td>\n",
       "      <td>-2.878608e+11</td>\n",
       "      <td>-15.336297</td>\n",
       "      <td>-1.878417</td>\n",
       "      <td>4.241299</td>\n",
       "      <td>16.557303</td>\n",
       "      <td>16.072535</td>\n",
       "      <td>-61.675433</td>\n",
       "      <td>47.866388</td>\n",
       "      <td>[[0.0013155151011021062, 0.0011575384750591776...</td>\n",
       "    </tr>\n",
       "    <tr>\n",
       "      <th>4</th>\n",
       "      <td>2009-03-20</td>\n",
       "      <td>HD</td>\n",
       "      <td>15.282681</td>\n",
       "      <td>22.7300</td>\n",
       "      <td>21.760000</td>\n",
       "      <td>22.590000</td>\n",
       "      <td>22361800.0</td>\n",
       "      <td>17.891064</td>\n",
       "      <td>242.822755</td>\n",
       "      <td>-2.878384e+11</td>\n",
       "      <td>-15.196946</td>\n",
       "      <td>-1.802284</td>\n",
       "      <td>3.962916</td>\n",
       "      <td>17.226666</td>\n",
       "      <td>15.951019</td>\n",
       "      <td>-36.079148</td>\n",
       "      <td>49.222342</td>\n",
       "      <td>[[0.0013155151011021062, 0.0011575384750591776...</td>\n",
       "    </tr>\n",
       "  </tbody>\n",
       "</table>\n",
       "</div>"
      ],
      "text/plain": [
       "         date   tic      close     high        low       open       volume  \\\n",
       "0  2009-03-20  AAPL   3.067483   3.6825   3.591786   3.646071  695587200.0   \n",
       "1  2009-03-20   AXP   9.629786  13.1900  12.120000  13.190000   31088200.0   \n",
       "2  2009-03-20   CAT  17.987209  28.9000  26.730000  28.629999   16531300.0   \n",
       "3  2009-03-20  CSCO  10.697708  16.5700  15.750000  16.370001   66078200.0   \n",
       "4  2009-03-20    HD  15.282681  22.7300  21.760000  22.590000   22361800.0   \n",
       "\n",
       "         atr         bbw           obv        cmf      macd       adx  \\\n",
       "0  21.624245  240.771026 -2.878423e+11 -15.604885 -1.092894  4.784446   \n",
       "1  20.474072  241.683988 -2.878112e+11 -15.658606 -1.695398  4.652402   \n",
       "2  20.353686  242.338441 -2.877947e+11 -15.545789 -1.481436  4.441961   \n",
       "3  18.542039  242.632129 -2.878608e+11 -15.336297 -1.878417  4.241299   \n",
       "4  17.891064  242.822755 -2.878384e+11 -15.196946 -1.802284  3.962916   \n",
       "\n",
       "         sma        ema         cci        rsi  \\\n",
       "0  17.715581  18.197433 -112.331634  45.730861   \n",
       "1  16.456213  16.879334  -74.319369  47.538704   \n",
       "2  16.727739  17.049776  -15.127649  49.830865   \n",
       "3  16.557303  16.072535  -61.675433  47.866388   \n",
       "4  17.226666  15.951019  -36.079148  49.222342   \n",
       "\n",
       "                                            cov_list  \n",
       "0  [[0.0013155151011021062, 0.0011575384750591776...  \n",
       "1  [[0.0013155151011021062, 0.0011575384750591776...  \n",
       "2  [[0.0013155151011021062, 0.0011575384750591776...  \n",
       "3  [[0.0013155151011021062, 0.0011575384750591776...  \n",
       "4  [[0.0013155151011021062, 0.0011575384750591776...  "
      ]
     },
     "execution_count": 16,
     "metadata": {},
     "output_type": "execute_result"
    }
   ],
   "source": [
    "data_with_features_covs.head()"
   ]
  },
  {
   "cell_type": "markdown",
   "metadata": {},
   "source": [
    "### 4.6 Store the Dataframe"
   ]
  },
  {
   "cell_type": "code",
   "execution_count": 17,
   "metadata": {},
   "outputs": [],
   "source": [
    "df = data_with_features_covs"
   ]
  },
  {
   "cell_type": "code",
   "execution_count": 18,
   "metadata": {},
   "outputs": [
    {
     "name": "stdout",
     "output_type": "stream",
     "text": [
      "Stored 'df' (DataFrame)\n"
     ]
    }
   ],
   "source": [
    "df.to_csv('df.csv', index=False)\n",
    "%store df"
   ]
  }
 ],
 "metadata": {
  "kernelspec": {
   "display_name": "Python 3",
   "language": "python",
   "name": "python3"
  },
  "language_info": {
   "codemirror_mode": {
    "name": "ipython",
    "version": 3
   },
   "file_extension": ".py",
   "mimetype": "text/x-python",
   "name": "python",
   "nbconvert_exporter": "python",
   "pygments_lexer": "ipython3",
   "version": "3.10.14"
  }
 },
 "nbformat": 4,
 "nbformat_minor": 4
}
